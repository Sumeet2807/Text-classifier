{
 "cells": [
  {
   "cell_type": "code",
   "execution_count": 1,
   "metadata": {},
   "outputs": [
    {
     "name": "stderr",
     "output_type": "stream",
     "text": [
      "[nltk_data] Downloading package wordnet to\n",
      "[nltk_data]     C:\\Users\\BREAL\\AppData\\Roaming\\nltk_data...\n",
      "[nltk_data]   Package wordnet is already up-to-date!\n"
     ]
    },
    {
     "name": "stdout",
     "output_type": "stream",
     "text": [
      "\n",
      "\n",
      "****** Loading training data ******\n"
     ]
    },
    {
     "name": "stderr",
     "output_type": "stream",
     "text": [
      "  0%|          | 0/10 [00:00<?, ?it/s]"
     ]
    },
    {
     "name": "stdout",
     "output_type": "stream",
     "text": [
      "\n",
      "\n",
      "****** Training model - bow.Linear_ensemble ******\n"
     ]
    },
    {
     "name": "stderr",
     "output_type": "stream",
     "text": [
      "100%|██████████| 10/10 [00:18<00:00,  1.90s/it]\n"
     ]
    },
    {
     "name": "stdout",
     "output_type": "stream",
     "text": [
      "training precision - 0.3760137734084382\n",
      "training recall - 0.3724509952556028\n",
      "\n",
      "\n",
      "****** Testing model ******\n",
      "              precision    recall  f1-score   support\n",
      "\n",
      "  Irrelevant       0.17      0.77      0.28       125\n",
      "    Negative       0.47      0.41      0.44       222\n",
      "     Neutral       0.00      0.00      0.00       180\n",
      "    Positive       0.00      0.00      0.00       214\n",
      "\n",
      "    accuracy                           0.25       741\n",
      "   macro avg       0.16      0.29      0.18       741\n",
      "weighted avg       0.17      0.25      0.18       741\n",
      "\n",
      "\n",
      "\n",
      "****** Saving model ******\n"
     ]
    }
   ],
   "source": [
    "from preprocessing.utils import get_preprocessor_class\n",
    "from models.utils import get_model_class\n",
    "import yaml\n",
    "from sklearn.metrics import classification_report as cr\n",
    "from utils import get_data_from_config\n",
    "import os\n",
    "\n",
    "with open(\"config_train.yml\", \"r\") as f:\n",
    "    config = yaml.safe_load(f)\n",
    "\n",
    "\n",
    "\n",
    "preprocess_config = config['preprocessing']\n",
    "model_config = config['model']\n",
    "data_config = config['data']\n",
    "\n",
    "preprocessor = get_preprocessor_class(preprocess_config['class'])(preprocess_config['args'])\n",
    "model = get_model_class(model_config['class'])(model_config['args'])\n",
    "\n",
    "\n",
    "print(\"\\n\\n****** Loading training data ******\")\n",
    "\n",
    "_,X_train,y_train = get_data_from_config(data_config['train'],preprocessor)\n",
    "\n",
    "\n",
    "print('\\n\\n****** Training model - %s ******' % model_config['class'])\n",
    "model.fit(X_train,y_train)\n",
    "model.report_metrics()\n",
    "\n",
    "if 'test' in data_config:\n",
    "\n",
    "    test_data_config = data_config['test']\n",
    "    _,X_test,y_test = get_data_from_config(test_data_config,preprocessor)\n",
    "\n",
    "    print('\\n\\n****** Testing model ******')\n",
    "    y_pred = model.predict(X_test)\n",
    "    print(cr(y_test,y_pred, zero_division=0))\n",
    "\n",
    "print('\\n\\n****** Saving model ******')\n",
    "\n",
    "if not os.path.exists(model_config['save-dir']):\n",
    "    os.makedirs(model_config['save-dir'])\n",
    "\n",
    "model.save(model_config['save-dir'],config)\n"
   ]
  },
  {
   "cell_type": "code",
   "execution_count": 1,
   "metadata": {},
   "outputs": [
    {
     "name": "stderr",
     "output_type": "stream",
     "text": [
      "[nltk_data] Downloading package wordnet to\n",
      "[nltk_data]     C:\\Users\\BREAL\\AppData\\Roaming\\nltk_data...\n",
      "[nltk_data]   Package wordnet is already up-to-date!\n"
     ]
    },
    {
     "name": "stdout",
     "output_type": "stream",
     "text": [
      "\n",
      "\n",
      "****** Loading model ******\n",
      "\n",
      "\n",
      "****** Loading data from source******\n"
     ]
    },
    {
     "ename": "NameError",
     "evalue": "name 'get_data_from_config' is not defined",
     "output_type": "error",
     "traceback": [
      "\u001b[1;31m---------------------------------------------------------------------------\u001b[0m",
      "\u001b[1;31mNameError\u001b[0m                                 Traceback (most recent call last)",
      "\u001b[1;32m~\\AppData\\Local\\Temp/ipykernel_12772/584309087.py\u001b[0m in \u001b[0;36m<module>\u001b[1;34m\u001b[0m\n\u001b[0;32m     28\u001b[0m \u001b[0mprint\u001b[0m\u001b[1;33m(\u001b[0m\u001b[1;34m\"\\n\\n****** Loading data from source******\"\u001b[0m\u001b[1;33m)\u001b[0m\u001b[1;33m\u001b[0m\u001b[1;33m\u001b[0m\u001b[0m\n\u001b[0;32m     29\u001b[0m \u001b[1;33m\u001b[0m\u001b[0m\n\u001b[1;32m---> 30\u001b[1;33m \u001b[0mdf\u001b[0m\u001b[1;33m,\u001b[0m\u001b[0mX\u001b[0m\u001b[1;33m,\u001b[0m\u001b[0m_\u001b[0m \u001b[1;33m=\u001b[0m \u001b[0mget_data_from_config\u001b[0m\u001b[1;33m(\u001b[0m\u001b[0mdata_config\u001b[0m\u001b[1;33m[\u001b[0m\u001b[1;34m'read'\u001b[0m\u001b[1;33m]\u001b[0m\u001b[1;33m)\u001b[0m\u001b[1;33m\u001b[0m\u001b[1;33m\u001b[0m\u001b[0m\n\u001b[0m\u001b[0;32m     31\u001b[0m \u001b[1;33m\u001b[0m\u001b[0m\n\u001b[0;32m     32\u001b[0m \u001b[0mprint\u001b[0m\u001b[1;33m(\u001b[0m\u001b[1;34m\"\\n\\n****** Predicting ******\"\u001b[0m\u001b[1;33m)\u001b[0m\u001b[1;33m\u001b[0m\u001b[1;33m\u001b[0m\u001b[0m\n",
      "\u001b[1;31mNameError\u001b[0m: name 'get_data_from_config' is not defined"
     ]
    }
   ],
   "source": [
    "import pandas as pd\n",
    "from sklearn.preprocessing import LabelEncoder\n",
    "from preprocessing.utils import get_preprocessor_class\n",
    "from models.utils import get_model_class\n",
    "from data_io.utils import get_datahandler_class\n",
    "\n",
    "import yaml\n",
    "from sklearn.metrics import classification_report as cr\n",
    "\n",
    "\n",
    "with open(\"config_predict.yml\", \"r\") as f:\n",
    "    config = yaml.safe_load(f)\n",
    "config\n",
    "\n",
    "data_config = config['data']\n",
    "\n",
    "with open(config['model']['yml-path'], \"r\") as f:\n",
    "    model_yml = yaml.safe_load(f)\n",
    "\n",
    "\n",
    "\n",
    "preprocess_config = model_yml['preprocessing']\n",
    "model_config = model_yml['model']\n",
    "preprocessor = get_preprocessor_class(preprocess_config['class'])(preprocess_config['args'])\n",
    "print(\"\\n\\n****** Loading model ******\")\n",
    "\n",
    "model = get_model_class(model_config['class'])(model_config['args']).load(config['model']['yml-path'])\n",
    "print(\"\\n\\n****** Loading data from source******\")\n",
    "\n",
    "df,X,_ = get_data_from_config(data_config['read'])\n",
    "\n",
    "print(\"\\n\\n****** Predicting ******\")\n",
    "y_pred = model.predict(X)\n",
    "\n",
    "if 'write' in config['data']:\n",
    "    print(\"\\n\\n****** Writing predictions to destination******\")\n",
    "\n",
    "    df[data_config['write']['label-column']] = y_pred\n",
    "    get_datahandler_class(data_config['write']['class'])().write(df,data_config['write']['args'])\n",
    "\n",
    "\n",
    "\n",
    "# print('\\n\\n****** Training model - %s ******' % model_config['class'])\n",
    "# model.fit(X_train,y_train)\n",
    "# model.report_metrics()\n",
    "\n",
    "# if 'test' in data_config:\n",
    "#     test_data_handler = get_datahandler_instance(data_config['train'])\n",
    "\n",
    "#     X_test,y_test = test_data_handler.read(data_config['test']['text-column'],data_config['test']['args'],\n",
    "#                                             data_config['test']['label-column'],text_preprocessing=preprocessor)\n",
    "#     print('\\n\\n****** Testing model ******')\n",
    "#     y_pred = model.predict(X_test)\n",
    "#     print(cr(y_test,y_pred, zero_division=0))\n",
    "\n",
    "# print('\\n\\n****** Saving model ******')\n",
    "# model.save(model_config['save-dir'],config)\n"
   ]
  },
  {
   "cell_type": "code",
   "execution_count": 4,
   "metadata": {},
   "outputs": [
    {
     "data": {
      "text/plain": [
       "'1668311918'"
      ]
     },
     "execution_count": 4,
     "metadata": {},
     "output_type": "execute_result"
    }
   ],
   "source": [
    "import time \n",
    "str(int(time.time()))"
   ]
  }
 ],
 "metadata": {
  "kernelspec": {
   "display_name": "Python 3.9.7 ('ml')",
   "language": "python",
   "name": "python3"
  },
  "language_info": {
   "codemirror_mode": {
    "name": "ipython",
    "version": 3
   },
   "file_extension": ".py",
   "mimetype": "text/x-python",
   "name": "python",
   "nbconvert_exporter": "python",
   "pygments_lexer": "ipython3",
   "version": "3.9.7"
  },
  "orig_nbformat": 4,
  "vscode": {
   "interpreter": {
    "hash": "a4e011bea087348f089ed99a7f4744fa8e15b41a6914d8f39c20b970ed3434b0"
   }
  }
 },
 "nbformat": 4,
 "nbformat_minor": 2
}
