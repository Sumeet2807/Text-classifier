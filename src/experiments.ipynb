{
 "cells": [
  {
   "cell_type": "code",
   "execution_count": 1,
   "metadata": {},
   "outputs": [
    {
     "name": "stderr",
     "output_type": "stream",
     "text": [
      "[nltk_data] Downloading package wordnet to\n",
      "[nltk_data]     C:\\Users\\BREAL\\AppData\\Roaming\\nltk_data...\n",
      "[nltk_data]   Package wordnet is already up-to-date!\n",
      "  0%|          | 0/10 [00:00<?, ?it/s]"
     ]
    },
    {
     "name": "stdout",
     "output_type": "stream",
     "text": [
      "\n",
      "\n",
      "****** Loading training and test data ******\n",
      "\n",
      "\n",
      "****** Training model - bow.Linear_ensemble ******\n"
     ]
    },
    {
     "name": "stderr",
     "output_type": "stream",
     "text": [
      "100%|██████████| 10/10 [00:26<00:00,  2.69s/it]\n"
     ]
    },
    {
     "name": "stdout",
     "output_type": "stream",
     "text": [
      "training precision - 0.3696121904690255\n",
      "training recall - 0.3700470162019592\n",
      "\n",
      "\n",
      "****** Testing model ******\n",
      "              precision    recall  f1-score   support\n",
      "\n",
      "  Irrelevant       0.18      0.76      0.30       122\n",
      "    Negative       0.51      0.55      0.53       217\n",
      "     Neutral       0.00      0.00      0.00       185\n",
      "    Positive       0.00      0.00      0.00       211\n",
      "\n",
      "    accuracy                           0.29       735\n",
      "   macro avg       0.17      0.33      0.21       735\n",
      "weighted avg       0.18      0.29      0.21       735\n",
      "\n",
      "\n",
      "\n",
      "****** Saving model ******\n"
     ]
    }
   ],
   "source": [
    "import pandas as pd\n",
    "from sklearn.preprocessing import LabelEncoder\n",
    "from preprocessing.preprocessor import Text_preprocessor_from_dict\n",
    "from models.model_utils import get_model_class\n",
    "import yaml\n",
    "from sklearn.metrics import classification_report as cr\n",
    "from classifier.utils import get_data_from_config\n",
    "\n",
    "\n",
    "with open(\"config.yml\", \"r\") as f:\n",
    "    config = yaml.safe_load(f)\n",
    "\n",
    "\n",
    "\n",
    "preprocess_config = config['preprocessing']\n",
    "model_config = config['model']\n",
    "train_data_config = config['data']['train']\n",
    "preprocessor = Text_preprocessor_from_dict(preprocess_config)\n",
    "\n",
    "model = get_model_class(model_config['class'])(model_config['args'])\n",
    "\n",
    "\n",
    "print(\"\\n\\n****** Loading training and test data ******\")\n",
    "\n",
    "# train_data_handler = get_datahandler_class(train_data_config['source-class'])()\n",
    "# X_train,y_train = train_data_handler.read(train_data_config['text-column'],train_data_config['args'],\n",
    "#                                         train_data_config['label-column'],text_preprocessing=preprocessor)\n",
    "\n",
    "_,X_train,y_train = get_data_from_config(train_data_config,preprocessor)\n",
    "\n",
    "\n",
    "print('\\n\\n****** Training model - %s ******' % model_config['class'])\n",
    "model.fit(X_train,y_train)\n",
    "model.report_metrics()\n",
    "\n",
    "if 'test' in config['data']:\n",
    "    test_data_config = config['data']['test']\n",
    "    # test_data_handler = get_datahandler_class(test_data_config['source-class'])()\n",
    "    # X_test,y_test = test_data_handler.read(test_data_config['text-column'],test_data_config['args'],\n",
    "    #                                         test_data_config['label-column'],text_preprocessing=preprocessor)\n",
    "    _,X_test,y_test = get_data_from_config(test_data_config,preprocessor)\n",
    "\n",
    "    print('\\n\\n****** Testing model ******')\n",
    "    y_pred = model.predict(X_test)\n",
    "    print(cr(y_test,y_pred, zero_division=0))\n",
    "\n",
    "print('\\n\\n****** Saving model ******')\n",
    "model.save(model_config['save-dir'],config)\n"
   ]
  },
  {
   "cell_type": "code",
   "execution_count": 4,
   "metadata": {},
   "outputs": [
    {
     "name": "stdout",
     "output_type": "stream",
     "text": [
      "\n",
      "\n",
      "****** Loading data ******\n"
     ]
    }
   ],
   "source": [
    "import pandas as pd\n",
    "from sklearn.preprocessing import LabelEncoder\n",
    "from preprocessing.preprocessor import Text_preprocessor_from_dict\n",
    "from models.model_utils import get_model_class\n",
    "from data_io.utils import get_datahandler_class\n",
    "\n",
    "import yaml\n",
    "from sklearn.metrics import classification_report as cr\n",
    "\n",
    "\n",
    "with open(\"config_predict.yml\", \"r\") as f:\n",
    "    config = yaml.safe_load(f)\n",
    "config\n",
    "\n",
    "read_data_config = config['data']['read']\n",
    "\n",
    "with open(config['model']['yml-path'], \"r\") as f:\n",
    "    model_yml = yaml.safe_load(f)\n",
    "\n",
    "\n",
    "\n",
    "preprocess_config = model_yml['preprocessing']\n",
    "model_config = model_yml['model']\n",
    "preprocessor = Text_preprocessor_from_dict(preprocess_config)\n",
    "print(\"\\n\\n****** Loading model ******\")\n",
    "\n",
    "model = get_model_class(model_config['class'])(model_config['args']).load(config['model']['yml-path'])\n",
    "print(\"\\n\\n****** Loading data from source******\")\n",
    "\n",
    "df,X,_ = get_data_from_config(read_data_config)\n",
    "\n",
    "print(\"\\n\\n****** Predicting ******\")\n",
    "y_pred = model.predict(X)\n",
    "\n",
    "if 'write' in config['data']:\n",
    "    print(\"\\n\\n****** Writing predictions to destination******\")\n",
    "\n",
    "    write_data_config = config['data']['write']\n",
    "    df[write_data_config['label-column']] = y_pred\n",
    "    get_datahandler_class(write_data_config['source-class'])().write(df,write_data_config['args'])\n",
    "\n",
    "\n",
    "\n",
    "# print('\\n\\n****** Training model - %s ******' % model_config['class'])\n",
    "# model.fit(X_train,y_train)\n",
    "# model.report_metrics()\n",
    "\n",
    "# if 'test' in data_config:\n",
    "#     test_data_handler = get_datahandler_instance(data_config['train'])\n",
    "\n",
    "#     X_test,y_test = test_data_handler.read(data_config['test']['text-column'],data_config['test']['args'],\n",
    "#                                             data_config['test']['label-column'],text_preprocessing=preprocessor)\n",
    "#     print('\\n\\n****** Testing model ******')\n",
    "#     y_pred = model.predict(X_test)\n",
    "#     print(cr(y_test,y_pred, zero_division=0))\n",
    "\n",
    "# print('\\n\\n****** Saving model ******')\n",
    "# model.save(model_config['save-dir'],config)\n"
   ]
  },
  {
   "cell_type": "code",
   "execution_count": 4,
   "metadata": {},
   "outputs": [
    {
     "data": {
      "text/plain": [
       "'1668311918'"
      ]
     },
     "execution_count": 4,
     "metadata": {},
     "output_type": "execute_result"
    }
   ],
   "source": [
    "import time \n",
    "str(int(time.time()))"
   ]
  }
 ],
 "metadata": {
  "kernelspec": {
   "display_name": "Python 3.9.7 ('ml')",
   "language": "python",
   "name": "python3"
  },
  "language_info": {
   "codemirror_mode": {
    "name": "ipython",
    "version": 3
   },
   "file_extension": ".py",
   "mimetype": "text/x-python",
   "name": "python",
   "nbconvert_exporter": "python",
   "pygments_lexer": "ipython3",
   "version": "3.9.7"
  },
  "orig_nbformat": 4,
  "vscode": {
   "interpreter": {
    "hash": "a4e011bea087348f089ed99a7f4744fa8e15b41a6914d8f39c20b970ed3434b0"
   }
  }
 },
 "nbformat": 4,
 "nbformat_minor": 2
}
