{
 "cells": [
  {
   "cell_type": "code",
   "execution_count": 2,
   "metadata": {},
   "outputs": [
    {
     "name": "stdout",
     "output_type": "stream",
     "text": [
      "\n",
      "\n",
      "****** Loading training and test data ******\n"
     ]
    },
    {
     "name": "stderr",
     "output_type": "stream",
     "text": [
      "  0%|          | 0/10 [00:00<?, ?it/s]"
     ]
    },
    {
     "name": "stdout",
     "output_type": "stream",
     "text": [
      "\n",
      "\n",
      "****** Training model - bow.Linear_ensemble ******\n"
     ]
    },
    {
     "name": "stderr",
     "output_type": "stream",
     "text": [
      "100%|██████████| 10/10 [00:35<00:00,  3.51s/it]\n"
     ]
    },
    {
     "name": "stdout",
     "output_type": "stream",
     "text": [
      "training precision - 0.400434670091592\n",
      "training recall - 0.39773276085171705\n",
      "\n",
      "\n",
      "****** Testing model ******\n",
      "              precision    recall  f1-score   support\n",
      "\n",
      "  Irrelevant       0.20      0.76      0.31       139\n",
      "    Negative       0.51      0.49      0.50       214\n",
      "     Neutral       0.00      0.00      0.00       177\n",
      "    Positive       0.00      0.00      0.00       212\n",
      "\n",
      "    accuracy                           0.28       742\n",
      "   macro avg       0.18      0.31      0.20       742\n",
      "weighted avg       0.18      0.28      0.20       742\n",
      "\n",
      "\n",
      "\n",
      "****** Saving model ******\n"
     ]
    }
   ],
   "source": [
    "import pandas as pd\n",
    "from sklearn.preprocessing import LabelEncoder\n",
    "from utils.io import get_datahandler_class\n",
    "from preprocessing.preprocessor import Text_preprocessor_from_dict\n",
    "from models.model_utils import get_model_class\n",
    "import yaml\n",
    "from sklearn.metrics import classification_report as cr\n",
    "\n",
    "\n",
    "with open(\"config.yml\", \"r\") as f:\n",
    "    config = yaml.safe_load(f)\n",
    "config\n",
    "\n",
    "\n",
    "preprocess_config = config['preprocessing']\n",
    "model_config = config['model']\n",
    "train_data_config = config['data']['train']\n",
    "preprocessor = Text_preprocessor_from_dict(preprocess_config)\n",
    "\n",
    "model = get_model_class(model_config['class'])(model_config['args'])\n",
    "train_data_handler = get_datahandler_class(train_data_config['source-class'])()\n",
    "print(\"\\n\\n****** Loading training and test data ******\")\n",
    "X_train,y_train = train_data_handler.read(train_data_config['text-column'],train_data_config['args'],\n",
    "                                        train_data_config['label-column'],text_preprocessing=preprocessor)\n",
    "\n",
    "\n",
    "\n",
    "\n",
    "print('\\n\\n****** Training model - %s ******' % model_config['class'])\n",
    "model.fit(X_train,y_train)\n",
    "model.report_metrics()\n",
    "\n",
    "if 'test' in config['data']:\n",
    "    test_data_config = config['data']['test']\n",
    "    test_data_handler = get_datahandler_class(test_data_config['source-class'])()\n",
    "    X_test,y_test = test_data_handler.read(test_data_config['text-column'],test_data_config['args'],\n",
    "                                            test_data_config['label-column'],text_preprocessing=preprocessor)\n",
    "    print('\\n\\n****** Testing model ******')\n",
    "    y_pred = model.predict(X_test)\n",
    "    print(cr(y_test,y_pred, zero_division=0))\n",
    "\n",
    "print('\\n\\n****** Saving model ******')\n",
    "model.save(model_config['save-dir'],config)\n"
   ]
  },
  {
   "cell_type": "code",
   "execution_count": 1,
   "metadata": {},
   "outputs": [
    {
     "name": "stderr",
     "output_type": "stream",
     "text": [
      "[nltk_data] Downloading package wordnet to\n",
      "[nltk_data]     C:\\Users\\BREAL\\AppData\\Roaming\\nltk_data...\n",
      "[nltk_data]   Package wordnet is already up-to-date!\n"
     ]
    },
    {
     "name": "stdout",
     "output_type": "stream",
     "text": [
      "\n",
      "\n",
      "****** Loading data ******\n"
     ]
    },
    {
     "ename": "AttributeError",
     "evalue": "'NoneType' object has no attribute 'to_numpy'",
     "output_type": "error",
     "traceback": [
      "\u001b[1;31m---------------------------------------------------------------------------\u001b[0m",
      "\u001b[1;31mAttributeError\u001b[0m                            Traceback (most recent call last)",
      "\u001b[1;32m~\\AppData\\Local\\Temp/ipykernel_15744/94265137.py\u001b[0m in \u001b[0;36m<module>\u001b[1;34m\u001b[0m\n\u001b[0;32m     26\u001b[0m \u001b[0mdata_handler\u001b[0m \u001b[1;33m=\u001b[0m \u001b[0mget_datahandler_class\u001b[0m\u001b[1;33m(\u001b[0m\u001b[0mdata_config\u001b[0m\u001b[1;33m[\u001b[0m\u001b[1;34m'source-class'\u001b[0m\u001b[1;33m]\u001b[0m\u001b[1;33m)\u001b[0m\u001b[1;33m(\u001b[0m\u001b[1;33m)\u001b[0m\u001b[1;33m\u001b[0m\u001b[1;33m\u001b[0m\u001b[0m\n\u001b[0;32m     27\u001b[0m \u001b[0mprint\u001b[0m\u001b[1;33m(\u001b[0m\u001b[1;34m\"\\n\\n****** Loading data ******\"\u001b[0m\u001b[1;33m)\u001b[0m\u001b[1;33m\u001b[0m\u001b[1;33m\u001b[0m\u001b[0m\n\u001b[1;32m---> 28\u001b[1;33m \u001b[0mX\u001b[0m \u001b[1;33m=\u001b[0m \u001b[0mdata_handler\u001b[0m\u001b[1;33m.\u001b[0m\u001b[0mread\u001b[0m\u001b[1;33m(\u001b[0m\u001b[0mdata_config\u001b[0m\u001b[1;33m[\u001b[0m\u001b[1;34m'text-column'\u001b[0m\u001b[1;33m]\u001b[0m\u001b[1;33m,\u001b[0m\u001b[0mdata_config\u001b[0m\u001b[1;33m[\u001b[0m\u001b[1;34m'args'\u001b[0m\u001b[1;33m]\u001b[0m\u001b[1;33m,\u001b[0m\u001b[0mtext_preprocessing\u001b[0m\u001b[1;33m=\u001b[0m\u001b[0mpreprocessor\u001b[0m\u001b[1;33m)\u001b[0m\u001b[1;33m\u001b[0m\u001b[1;33m\u001b[0m\u001b[0m\n\u001b[0m\u001b[0;32m     29\u001b[0m \u001b[1;33m\u001b[0m\u001b[0m\n\u001b[0;32m     30\u001b[0m \u001b[0mmodel\u001b[0m\u001b[1;33m.\u001b[0m\u001b[0mpredict\u001b[0m\u001b[1;33m(\u001b[0m\u001b[0mX\u001b[0m\u001b[1;33m)\u001b[0m\u001b[1;33m\u001b[0m\u001b[1;33m\u001b[0m\u001b[0m\n",
      "\u001b[1;32mc:\\Users\\Sumeet\\Desktop\\Projects\\Text-classifier\\src\\utils\\io.py\u001b[0m in \u001b[0;36mread\u001b[1;34m(self, text_column, args, category_column, text_preprocessing, shuffle)\u001b[0m\n\u001b[0;32m     41\u001b[0m             \u001b[0mX\u001b[0m \u001b[1;33m=\u001b[0m \u001b[0mX\u001b[0m\u001b[1;33m.\u001b[0m\u001b[0mapply\u001b[0m\u001b[1;33m(\u001b[0m\u001b[0mtext_preprocessing\u001b[0m\u001b[1;33m)\u001b[0m\u001b[1;33m\u001b[0m\u001b[1;33m\u001b[0m\u001b[0m\n\u001b[0;32m     42\u001b[0m \u001b[1;33m\u001b[0m\u001b[0m\n\u001b[1;32m---> 43\u001b[1;33m         \u001b[1;32mreturn\u001b[0m \u001b[0mX\u001b[0m\u001b[1;33m.\u001b[0m\u001b[0mto_numpy\u001b[0m\u001b[1;33m(\u001b[0m\u001b[1;33m)\u001b[0m\u001b[1;33m,\u001b[0m \u001b[0my\u001b[0m\u001b[1;33m.\u001b[0m\u001b[0mto_numpy\u001b[0m\u001b[1;33m(\u001b[0m\u001b[1;33m)\u001b[0m\u001b[1;33m\u001b[0m\u001b[1;33m\u001b[0m\u001b[0m\n\u001b[0m\u001b[0;32m     44\u001b[0m \u001b[1;33m\u001b[0m\u001b[0m\n\u001b[0;32m     45\u001b[0m     \u001b[1;32mdef\u001b[0m \u001b[0mwrite\u001b[0m\u001b[1;33m(\u001b[0m\u001b[0mself\u001b[0m\u001b[1;33m,\u001b[0m\u001b[0mX\u001b[0m\u001b[1;33m,\u001b[0m \u001b[0my\u001b[0m \u001b[1;33m,\u001b[0m\u001b[0mtext_column\u001b[0m\u001b[1;33m,\u001b[0m \u001b[0mcategory_column\u001b[0m\u001b[1;33m,\u001b[0m\u001b[0margs\u001b[0m\u001b[1;33m)\u001b[0m\u001b[1;33m:\u001b[0m\u001b[1;33m\u001b[0m\u001b[1;33m\u001b[0m\u001b[0m\n",
      "\u001b[1;31mAttributeError\u001b[0m: 'NoneType' object has no attribute 'to_numpy'"
     ]
    }
   ],
   "source": [
    "import pandas as pd\n",
    "from sklearn.preprocessing import LabelEncoder\n",
    "from utils.io import get_datahandler_class\n",
    "from preprocessing.preprocessor import Text_preprocessor_from_dict\n",
    "from models.model_utils import get_model_class\n",
    "import yaml\n",
    "from sklearn.metrics import classification_report as cr\n",
    "\n",
    "\n",
    "with open(\"config_predict.yml\", \"r\") as f:\n",
    "    config = yaml.safe_load(f)\n",
    "config\n",
    "\n",
    "data_config = config['data']\n",
    "\n",
    "with open(config['model']['yml-path'], \"r\") as f:\n",
    "    model_yml = yaml.safe_load(f)\n",
    "\n",
    "\n",
    "\n",
    "preprocess_config = model_yml['preprocessing']\n",
    "model_config = model_yml['model']\n",
    "preprocessor = Text_preprocessor_from_dict(preprocess_config)\n",
    "\n",
    "model = get_model_class(model_config['class'])(model_config['args']).load(config['model']['yml-path'])\n",
    "data_handler = get_datahandler_class(data_config['source-class'])()\n",
    "print(\"\\n\\n****** Loading data ******\")\n",
    "X,_ = data_handler.read(data_config['text-column'],data_config['args'],text_preprocessing=preprocessor)\n",
    "\n",
    "model.predict(X)\n",
    "\n",
    "\n",
    "# print('\\n\\n****** Training model - %s ******' % model_config['class'])\n",
    "# model.fit(X_train,y_train)\n",
    "# model.report_metrics()\n",
    "\n",
    "# if 'test' in data_config:\n",
    "#     test_data_handler = get_datahandler_instance(data_config['train'])\n",
    "\n",
    "#     X_test,y_test = test_data_handler.read(data_config['test']['text-column'],data_config['test']['args'],\n",
    "#                                             data_config['test']['label-column'],text_preprocessing=preprocessor)\n",
    "#     print('\\n\\n****** Testing model ******')\n",
    "#     y_pred = model.predict(X_test)\n",
    "#     print(cr(y_test,y_pred, zero_division=0))\n",
    "\n",
    "# print('\\n\\n****** Saving model ******')\n",
    "# model.save(model_config['save-dir'],config)\n"
   ]
  },
  {
   "cell_type": "code",
   "execution_count": 4,
   "metadata": {},
   "outputs": [
    {
     "data": {
      "text/plain": [
       "'1668311918'"
      ]
     },
     "execution_count": 4,
     "metadata": {},
     "output_type": "execute_result"
    }
   ],
   "source": [
    "import time \n",
    "str(int(time.time()))"
   ]
  }
 ],
 "metadata": {
  "kernelspec": {
   "display_name": "Python 3.9.7 ('ml')",
   "language": "python",
   "name": "python3"
  },
  "language_info": {
   "codemirror_mode": {
    "name": "ipython",
    "version": 3
   },
   "file_extension": ".py",
   "mimetype": "text/x-python",
   "name": "python",
   "nbconvert_exporter": "python",
   "pygments_lexer": "ipython3",
   "version": "3.9.7"
  },
  "orig_nbformat": 4,
  "vscode": {
   "interpreter": {
    "hash": "a4e011bea087348f089ed99a7f4744fa8e15b41a6914d8f39c20b970ed3434b0"
   }
  }
 },
 "nbformat": 4,
 "nbformat_minor": 2
}
